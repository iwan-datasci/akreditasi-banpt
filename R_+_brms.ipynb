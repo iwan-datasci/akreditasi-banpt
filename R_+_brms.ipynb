{
  "nbformat": 4,
  "nbformat_minor": 0,
  "metadata": {
    "colab": {
      "name": "R + brms",
      "provenance": [],
      "collapsed_sections": [],
      "include_colab_link": true
    },
    "kernelspec": {
      "name": "python2",
      "display_name": "Python 2"
    }
  },
  "cells": [
    {
      "cell_type": "markdown",
      "metadata": {
        "id": "view-in-github",
        "colab_type": "text"
      },
      "source": [
        "<a href=\"https://colab.research.google.com/github/iwan-datasci/akreditasi-banpt/blob/master/R_%2B_brms.ipynb\" target=\"_parent\"><img src=\"https://colab.research.google.com/assets/colab-badge.svg\" alt=\"Open In Colab\"/></a>"
      ]
    },
    {
      "cell_type": "code",
      "metadata": {
        "id": "rtgemyiAvMa1",
        "colab_type": "code",
        "outputId": "3b7ac64e-f5f0-46a2-bbf5-ce9f8a1f5aec",
        "colab": {
          "base_uri": "https://localhost:8080/",
          "height": 153
        }
      },
      "source": [
        "! find / | grep kernel.json"
      ],
      "execution_count": 0,
      "outputs": [
        {
          "output_type": "stream",
          "text": [
            "/usr/local/lib/python2.7/dist-packages/ipykernel/jsonutil.py\n",
            "/usr/local/lib/python2.7/dist-packages/ipykernel/jsonutil.pyc\n",
            "/usr/local/lib/python3.6/dist-packages/ipykernel/jsonutil.py\n",
            "/usr/local/lib/R/site-library/IRkernel/kernelspec/kernel.json\n",
            "/usr/local/share/jupyter/kernels/python2/kernel.json\n",
            "/usr/local/share/jupyter/kernels/python3/kernel.json\n",
            "/usr/local/share/jupyter/kernels/ir/kernel.json\n",
            "/usr/local/share/jupyter/kernels/swift/kernel.json\n"
          ],
          "name": "stdout"
        }
      ]
    },
    {
      "cell_type": "markdown",
      "metadata": {
        "id": "WzpJq3ZrrDS3",
        "colab_type": "text"
      },
      "source": [
        "## Setup\n",
        "\n",
        "Run the following commands once (~5 mins).  It will replace your python2 jupyter kernel by R kernel.\n"
      ]
    },
    {
      "cell_type": "code",
      "metadata": {
        "id": "84XnTkx80uv0",
        "colab_type": "code",
        "colab": {}
      },
      "source": [
        "import datetime\n",
        "t1 = datetime.datetime.now()\n",
        "!wget https://repo.continuum.io/miniconda/Miniconda3-latest-Linux-x86_64.sh\n",
        "!chmod +x ./Miniconda3-latest-Linux-x86_64.sh\n",
        "!./Miniconda3-latest-Linux-x86_64.sh -b -p /conda  > /dev/null 2>&1 \n",
        "!/conda/bin/conda install -c r r-rstan r-irkernel gxx_linux-64 -y -q > /dev/null 2>&1\n",
        "!/conda/bin/R -e \"IRkernel::installspec(name = 'python2', displayname = 'R', user = FALSE)\"  > /dev/null 2>&1\n",
        "!mkdir /root/.R/\n",
        "!echo \"CXX14FLAGS=-O3 -mtune=native -march=native -Wno-ignored-attributes -Wno-deprecated-declarations\" > /root/.R/Makevars\n",
        "t2 = datetime.datetime.now()\n",
        "print(t2 - t1)"
      ],
      "execution_count": 0,
      "outputs": []
    },
    {
      "cell_type": "markdown",
      "metadata": {
        "id": "QA9_-cFdiblM",
        "colab_type": "text"
      },
      "source": [
        "Want to install **brms**? Run the following commands"
      ]
    },
    {
      "cell_type": "code",
      "metadata": {
        "id": "BI_vNIVmigYV",
        "colab_type": "code",
        "colab": {}
      },
      "source": [
        "t1 = datetime.datetime.now()\n",
        "!/conda/bin/conda install -c r r-mvtnorm r-shinythemes r-miniui r-markdown r-abind r-dt r-rsconnect r-gtools r-dygraphs r-shiny r-coda r-backports r-rlang r-dplyr r-threejs -y -q > /dev/null 2>&1\n",
        "!PATH=/conda/bin:$PATH /conda/bin/R -e 'install.packages(\"brms\",  repos=\"http://cran.us.r-project.org\")'  > /dev/null 2>&1\n",
        "\n",
        "!PATH=/conda/bin:$PATH /conda/bin/R -e 'install.packages(\"ggmap\",  repos=\"http://cran.us.r-project.org\")'  > /dev/null 2>&1\n",
        "        \n",
        "t2 = datetime.datetime.now()\n",
        "print(t2 - t1)"
      ],
      "execution_count": 0,
      "outputs": []
    },
    {
      "cell_type": "code",
      "metadata": {
        "id": "I62Zlm9Li61b",
        "colab_type": "code",
        "colab": {}
      },
      "source": [
        ""
      ],
      "execution_count": 0,
      "outputs": []
    },
    {
      "cell_type": "markdown",
      "metadata": {
        "id": "OuNfQhEjjHkM",
        "colab_type": "text"
      },
      "source": [
        "------"
      ]
    },
    {
      "cell_type": "markdown",
      "metadata": {
        "id": "CmfUPGS8i7Dp",
        "colab_type": "text"
      },
      "source": [
        "\n",
        "Now, go to menu **Runtime -> Manage Sessions -> TERMINATE**.  \n",
        "\n",
        "Finally, **RECONNECT**."
      ]
    },
    {
      "cell_type": "markdown",
      "metadata": {
        "id": "8elxrVCMr_pa",
        "colab_type": "text"
      },
      "source": [
        "## R Code"
      ]
    },
    {
      "cell_type": "code",
      "metadata": {
        "id": "GuQ1OjOBZP3Y",
        "colab_type": "code",
        "colab": {}
      },
      "source": [
        "Sys.setenv(PATH= paste(\"/conda/bin\" , Sys.getenv(\"PATH\"), sep = \":\" ) )\n",
        "install.packages('codetools', repos='http://cran.rstudio.com/')\n",
        "options(repr.plot.width  = 5,\n",
        "        repr.plot.height = 3)\n",
        "Sys.setenv(USE_CXX14 = 1)"
      ],
      "execution_count": 0,
      "outputs": []
    },
    {
      "cell_type": "code",
      "metadata": {
        "id": "RTwsDP44nV7m",
        "colab_type": "code",
        "colab": {}
      },
      "source": [
        "library(\"brms\")"
      ],
      "execution_count": 0,
      "outputs": []
    },
    {
      "cell_type": "code",
      "metadata": {
        "id": "iAK1YBCq_-Sx",
        "colab_type": "code",
        "colab": {}
      },
      "source": [
        "fit1 <- brm(count ~ log_Age_c + log_Base4_c * Trt + (1|patient), \n",
        "            data = epilepsy, family = poisson())\n"
      ],
      "execution_count": 0,
      "outputs": []
    },
    {
      "cell_type": "code",
      "metadata": {
        "id": "Zi_-NE9RfVw6",
        "colab_type": "code",
        "colab": {}
      },
      "source": [
        "summary(fit1) "
      ],
      "execution_count": 0,
      "outputs": []
    },
    {
      "cell_type": "code",
      "metadata": {
        "id": "0qy4tYFifggb",
        "colab_type": "code",
        "colab": {}
      },
      "source": [
        "plot(fit1, pars = c(\"Trt\", \"log_Base4_c\")) \n"
      ],
      "execution_count": 0,
      "outputs": []
    },
    {
      "cell_type": "code",
      "metadata": {
        "id": "Qyf9W8oKfhoF",
        "colab_type": "code",
        "colab": {}
      },
      "source": [
        "plot(marginal_effects(fit1, effects = \"log_Base4_c:Trt\"))\n"
      ],
      "execution_count": 0,
      "outputs": []
    },
    {
      "cell_type": "code",
      "metadata": {
        "id": "uZ1PWREsfi1U",
        "colab_type": "code",
        "colab": {}
      },
      "source": [
        "newdata <- data.frame(Trt = c(0, 1), log_Age_c = 0, log_Base4_c = 0)\n",
        "predict(fit1, newdata = newdata, re_formula = NA)\n"
      ],
      "execution_count": 0,
      "outputs": []
    },
    {
      "cell_type": "code",
      "metadata": {
        "id": "khNqIY1Ufknf",
        "colab_type": "code",
        "colab": {}
      },
      "source": [
        "fitted(fit1, newdata = newdata, re_formula = NA)\n"
      ],
      "execution_count": 0,
      "outputs": []
    },
    {
      "cell_type": "code",
      "metadata": {
        "id": "kK-rFPNOflm_",
        "colab_type": "code",
        "colab": {}
      },
      "source": [
        "fit2 <- brm(count ~ log_Age_c + log_Base4_c * Trt + (1|patient) + (1|obs), \n",
        "            data = epilepsy, family = poisson())\n"
      ],
      "execution_count": 0,
      "outputs": []
    },
    {
      "cell_type": "code",
      "metadata": {
        "id": "vMMwuhEkfnkJ",
        "colab_type": "code",
        "colab": {}
      },
      "source": [
        "loo(fit1, fit2)"
      ],
      "execution_count": 0,
      "outputs": []
    },
    {
      "cell_type": "code",
      "metadata": {
        "id": "S2JXAEEGfowL",
        "colab_type": "code",
        "colab": {}
      },
      "source": [
        ""
      ],
      "execution_count": 0,
      "outputs": []
    }
  ]
}